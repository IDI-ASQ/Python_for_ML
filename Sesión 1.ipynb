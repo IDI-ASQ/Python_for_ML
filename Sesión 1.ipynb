{
 "cells": [
  {
   "cell_type": "markdown",
   "id": "7f95f1fd",
   "metadata": {},
   "source": [
    "# Fundamentos de Python\n",
    "\n",
    "***Elaborado por:*** Carlos Enrique Rondan Poma, Director de ``I+D+I`` de ASQ UNI\n",
    "\n",
    "Redes sociales:\n",
    "[Linkedin](https://www.linkedin.com/in/carlosrondanp/), [Facebook](https://www.facebook.com/carlos.rondan.p/)"
   ]
  },
  {
   "cell_type": "markdown",
   "id": "9507e029",
   "metadata": {},
   "source": [
    "## Variables y Tipos de datos\n",
    "\n",
    "**Variable**: Una variable consta de un espacio en la memoria y un símbolo (nombre de la variable, identificador) que está asociado a dicho espacio.\n",
    "\n",
    "Tipos de datos:\n",
    "\n",
    "* ``int`` $\\rightarrow$ Números enteros\n",
    "* ``float`` $\\rightarrow$ Números decimales (coma flotante)\n",
    "* ``str`` $\\rightarrow$ Cadena de caracteres\n",
    "* ``bool`` $\\rightarrow$  True/false\n",
    "\n",
    "``nombre_variable = valor``\n",
    "\n",
    "<div class=\"alert alert-block alert-warning\">\n",
    "    <b>Nota:</b> Asignamos los datos sin indicar de qué tipo son.\n",
    "</div>\n",
    "\n",
    "---\n",
    "Ingrese al siguiente [link](https://www.youtube.com/)\n",
    "\n",
    "\n",
    "$$\\int\\limits_{a}^b f(x)\\mathrm{d}(x) = F(x)$$\n"
   ]
  },
  {
   "cell_type": "code",
   "execution_count": 29,
   "id": "d885a954",
   "metadata": {},
   "outputs": [
    {
     "data": {
      "text/plain": [
       "20"
      ]
     },
     "execution_count": 29,
     "metadata": {},
     "output_type": "execute_result"
    }
   ],
   "source": [
    "# int -> Tipo de dato entero\n",
    "a = 20\n",
    "a"
   ]
  },
  {
   "cell_type": "code",
   "execution_count": 30,
   "id": "b4fcd4b2",
   "metadata": {},
   "outputs": [
    {
     "data": {
      "text/plain": [
       "20.498"
      ]
     },
     "execution_count": 30,
     "metadata": {},
     "output_type": "execute_result"
    }
   ],
   "source": [
    "# float -> Tipo de dato decimal\n",
    "b = 20.498\n",
    "b"
   ]
  },
  {
   "cell_type": "code",
   "execution_count": 31,
   "id": "2cdb2eda",
   "metadata": {},
   "outputs": [
    {
     "data": {
      "text/plain": [
       "'ASQ UNI - IDI'"
      ]
     },
     "execution_count": 31,
     "metadata": {},
     "output_type": "execute_result"
    }
   ],
   "source": [
    "# str -> Tipo de dato \"cadena de caracteres\"\n",
    "c = 'ASQ UNI - IDI'\n",
    "c"
   ]
  },
  {
   "cell_type": "code",
   "execution_count": 32,
   "id": "541e2015",
   "metadata": {},
   "outputs": [
    {
     "data": {
      "text/plain": [
       "True"
      ]
     },
     "execution_count": 32,
     "metadata": {},
     "output_type": "execute_result"
    }
   ],
   "source": [
    "d = True\n",
    "d"
   ]
  },
  {
   "cell_type": "markdown",
   "id": "d2c255a8",
   "metadata": {},
   "source": [
    "<div class=\"alert alert-block alert-success\">\n",
    "    <b>Recomendación:</b> Nombre de variables, por ejemplo: \n",
    "    <ul>\n",
    "        <li>NuevaVariable\n",
    "        <li>Nueva_Variable \n",
    "        <li>nueva_variable\n",
    "    </ul>    \n",
    "</div>\n",
    "\n",
    "<div class=\"alert alert-block alert-info\">\n",
    "    <b>del:</b> es una función de python que nos permite eliminar las variables que no usaremos  \n",
    "</div>"
   ]
  },
  {
   "cell_type": "code",
   "execution_count": 41,
   "id": "e7b15fc7",
   "metadata": {},
   "outputs": [
    {
     "data": {
      "text/plain": [
       "(int, float, str, bool)"
      ]
     },
     "execution_count": 41,
     "metadata": {},
     "output_type": "execute_result"
    }
   ],
   "source": [
    "type(a), type(b), type(c), type(d)"
   ]
  },
  {
   "cell_type": "markdown",
   "id": "e2ca0564",
   "metadata": {},
   "source": [
    "<div class=\"alert alert-block alert-success\">\n",
    "    <b>Recomendación:</b> Usar la librería keyword y usar el método kwlist para ver todas las palabras clave de Python\n",
    "</div>\n"
   ]
  },
  {
   "cell_type": "code",
   "execution_count": 1,
   "id": "e0f9c964",
   "metadata": {},
   "outputs": [
    {
     "data": {
      "text/plain": [
       "['False',\n",
       " 'None',\n",
       " 'True',\n",
       " '__peg_parser__',\n",
       " 'and',\n",
       " 'as',\n",
       " 'assert',\n",
       " 'async',\n",
       " 'await',\n",
       " 'break',\n",
       " 'class',\n",
       " 'continue',\n",
       " 'def',\n",
       " 'del',\n",
       " 'elif',\n",
       " 'else',\n",
       " 'except',\n",
       " 'finally',\n",
       " 'for',\n",
       " 'from',\n",
       " 'global',\n",
       " 'if',\n",
       " 'import',\n",
       " 'in',\n",
       " 'is',\n",
       " 'lambda',\n",
       " 'nonlocal',\n",
       " 'not',\n",
       " 'or',\n",
       " 'pass',\n",
       " 'raise',\n",
       " 'return',\n",
       " 'try',\n",
       " 'while',\n",
       " 'with',\n",
       " 'yield']"
      ]
     },
     "execution_count": 1,
     "metadata": {},
     "output_type": "execute_result"
    }
   ],
   "source": [
    "import keyword\n",
    "keyword.kwlist"
   ]
  },
  {
   "cell_type": "markdown",
   "id": "1f7c8b83",
   "metadata": {},
   "source": [
    "## Operaciones aritméticas"
   ]
  },
  {
   "cell_type": "code",
   "execution_count": 2,
   "id": "713cf335",
   "metadata": {
    "scrolled": true
   },
   "outputs": [
    {
     "name": "stdout",
     "output_type": "stream",
     "text": [
      "Suma: 9\n",
      "Resta: -3\n",
      "Multiplicacion: 20\n",
      "División: 0.5\n",
      "Divisín entera: 2\n",
      "Modulo: 1\n",
      "Potencia:  49\n",
      "Raiz cuadrada:  1.4142135623730951\n"
     ]
    }
   ],
   "source": [
    "print('Suma:',1+8)\n",
    "print('Resta:',2-5)\n",
    "print('Multiplicacion:',2*10)\n",
    "print('División:',2/4)\n",
    "print('Divisín entera:',5//2)\n",
    "print('Modulo:',5%2) # el módulo es el residuo de una división --> 5 = 2*2 +1 = D = d*q + r \n",
    "print('Potencia: ', 7**2)\n",
    "print('Raiz cuadrada: ', 2**(1/2))"
   ]
  },
  {
   "cell_type": "markdown",
   "id": "2625d085",
   "metadata": {},
   "source": [
    "<div class=\"alert alert-block alert-info\">\n",
    "    <b>math:</b> Librería que nos permite usar pow y sqrt (operaciones atirméticas y trigonométricas)\n",
    "</div>"
   ]
  },
  {
   "cell_type": "code",
   "execution_count": 4,
   "id": "e4a3cb08",
   "metadata": {},
   "outputs": [
    {
     "name": "stdout",
     "output_type": "stream",
     "text": [
      "Potencia:  49.0\n",
      "Raiz cuadrada:  1.4142135623730951\n"
     ]
    }
   ],
   "source": [
    "import math\n",
    "print('Potencia: ',math.pow(7,2))\n",
    "print('Raiz cuadrada: ', math.sqrt(2))"
   ]
  },
  {
   "cell_type": "code",
   "execution_count": 6,
   "id": "be993990",
   "metadata": {},
   "outputs": [
    {
     "name": "stdout",
     "output_type": "stream",
     "text": [
      "pi:  3.141592653589793\n",
      "e:  2.718281828459045\n"
     ]
    }
   ],
   "source": [
    "# adicionalmente podemos acceder a constantes\n",
    "print('pi: ',math.pi)\n",
    "print('e: ', math.e) #base del logaritmo neperiano"
   ]
  },
  {
   "cell_type": "markdown",
   "id": "15ffa259",
   "metadata": {},
   "source": [
    "* **algoritmo**: Conjunto de operaciones sistemáticas que permiten hallar la solución a un problema\n",
    "* **Función**: Es un bloque de código con un nombre asociado, que recibe 0 o más argumentos y sigue una secuencia de sentencias, las cuales devuelven un valor y/o realiza una tarea\n",
    "* **Script**: Archivo diseñado para ser ejecutado. Puede conetener Funciones , programas, etc.\n",
    "* **Módulo**: Script que contiene colecciones de funciones, definiciones y declaraciones de ``python``"
   ]
  },
  {
   "cell_type": "markdown",
   "id": "49e98909",
   "metadata": {},
   "source": [
    "<div class=\"alert alert-block alert-warning\">\n",
    "    <b>Casting:</b> Convertir tipo de dato, por ejemplo int(8.0) -> 8 o también float(7) -> 7.0\n",
    "</div>\n",
    "\n",
    "<div class=\"alert alert-block alert-danger\">\n",
    "    <b>Observación:</b> Tener cuidado al castear una variable float, por ejemplo int(8.4) --> 8, lo cual significa que se ha truncado la variable y se ha perdido información  \n",
    "</div>"
   ]
  },
  {
   "cell_type": "markdown",
   "id": "034384ef",
   "metadata": {},
   "source": [
    "## Variable String\n",
    "**String**: Cadena ordenada de caracteres (cadena de texto)\n",
    "\n",
    "Podemos crear un string usando ``' '`` o ``\" \"``"
   ]
  },
  {
   "cell_type": "code",
   "execution_count": 14,
   "id": "b72c0e3d",
   "metadata": {},
   "outputs": [
    {
     "data": {
      "text/plain": [
       "'I+D+I'"
      ]
     },
     "execution_count": 14,
     "metadata": {},
     "output_type": "execute_result"
    }
   ],
   "source": [
    "a = 'I+D+I'\n",
    "a"
   ]
  },
  {
   "cell_type": "code",
   "execution_count": 15,
   "id": "9c8788da",
   "metadata": {},
   "outputs": [
    {
     "data": {
      "text/plain": [
       "str"
      ]
     },
     "execution_count": 15,
     "metadata": {},
     "output_type": "execute_result"
    }
   ],
   "source": [
    "type(a)"
   ]
  },
  {
   "cell_type": "code",
   "execution_count": 12,
   "id": "419a2198",
   "metadata": {},
   "outputs": [
    {
     "name": "stdout",
     "output_type": "stream",
     "text": [
      "ASQ UNI - IDI, La mejor área\n",
      "ASQ UNI - IDI, La mejor área\n"
     ]
    }
   ],
   "source": [
    "# Imprimir (print)\n",
    "print('ASQ UNI - IDI, La mejor área')\n",
    "print(\"ASQ UNI - IDI, La mejor área\")"
   ]
  },
  {
   "cell_type": "markdown",
   "id": "ffa0a984",
   "metadata": {},
   "source": [
    "### Comillas dentro de un string"
   ]
  },
  {
   "cell_type": "code",
   "execution_count": 22,
   "id": "f45ed9f9",
   "metadata": {},
   "outputs": [
    {
     "name": "stdout",
     "output_type": "stream",
     "text": [
      "usaremos 'comillas' dentro de un string\n",
      "usaremos \"comillas\" dentro de un string\n"
     ]
    }
   ],
   "source": [
    "a = 'usaremos \\'comillas\\' dentro de un string' \n",
    "b = 'usaremos \\\"comillas\\\" dentro de un string' \n",
    "print(a)\n",
    "print(b)"
   ]
  },
  {
   "cell_type": "markdown",
   "id": "9adbfed7",
   "metadata": {},
   "source": [
    "### Operaciones con Strings"
   ]
  },
  {
   "cell_type": "code",
   "execution_count": 26,
   "id": "00ec2376",
   "metadata": {},
   "outputs": [
    {
     "data": {
      "text/plain": [
       "'Carlos, Director IDI'"
      ]
     },
     "execution_count": 26,
     "metadata": {},
     "output_type": "execute_result"
    }
   ],
   "source": [
    "## Concatenación\n",
    "a = 'Carlos, '\n",
    "b = 'Director IDI'\n",
    "a+b"
   ]
  },
  {
   "cell_type": "code",
   "execution_count": 30,
   "id": "048b2287",
   "metadata": {},
   "outputs": [
    {
     "data": {
      "text/plain": [
       "'Haré la tarea xd, Haré la tarea xd, Haré la tarea xd, Haré la tarea xd, Haré la tarea xd, '"
      ]
     },
     "execution_count": 30,
     "metadata": {},
     "output_type": "execute_result"
    }
   ],
   "source": [
    "## Repetir strings\n",
    "texto = 'Haré la tarea xd, '\n",
    "texto*5"
   ]
  },
  {
   "cell_type": "code",
   "execution_count": 34,
   "id": "5d161f78",
   "metadata": {},
   "outputs": [
    {
     "data": {
      "text/plain": [
       "'1'"
      ]
     },
     "execution_count": 34,
     "metadata": {},
     "output_type": "execute_result"
    }
   ],
   "source": [
    "## Castear una variable numérica\n",
    "numero = 1\n",
    "str(numero)"
   ]
  },
  {
   "cell_type": "markdown",
   "id": "258276c0",
   "metadata": {},
   "source": [
    "Usaremos el método ``.format()`` junto a ``print()`` para poder concatenar las variables"
   ]
  },
  {
   "cell_type": "code",
   "execution_count": 36,
   "id": "1f1ad5fb",
   "metadata": {},
   "outputs": [
    {
     "name": "stdout",
     "output_type": "stream",
     "text": [
      "IDI en ASQ es el número 1\n"
     ]
    }
   ],
   "source": [
    "print('IDI en ASQ es el número {}'.format(numero))"
   ]
  },
  {
   "cell_type": "markdown",
   "id": "5a2cb058",
   "metadata": {},
   "source": [
    "### Substrings\n",
    "Nos servirá para acceder a los acaraceteres de cualquier varaible ``string``"
   ]
  },
  {
   "cell_type": "code",
   "execution_count": 39,
   "id": "dc62da1d",
   "metadata": {},
   "outputs": [],
   "source": [
    "var = 'Python'"
   ]
  },
  {
   "cell_type": "markdown",
   "id": "cd93a798",
   "metadata": {},
   "source": [
    "La cadena de texto 'Python' tiene la siguiente indexación:\n",
    "\n",
    "``\n",
    "P  y  t  h  o  n\n",
    " 0  1  2  3  4  5\n",
    "-6 -5 -4 -3 -2 -1\n",
    "``"
   ]
  },
  {
   "cell_type": "code",
   "execution_count": 42,
   "id": "ed6a837a",
   "metadata": {},
   "outputs": [
    {
     "data": {
      "text/plain": [
       "('n', 'h')"
      ]
     },
     "execution_count": 42,
     "metadata": {},
     "output_type": "execute_result"
    }
   ],
   "source": [
    "var[-1], var[3]"
   ]
  },
  {
   "cell_type": "code",
   "execution_count": 37,
   "id": "648baa07",
   "metadata": {},
   "outputs": [],
   "source": [
    "texto = 'IDI es la mejor área'"
   ]
  },
  {
   "cell_type": "code",
   "execution_count": 46,
   "id": "e759b87b",
   "metadata": {},
   "outputs": [
    {
     "data": {
      "text/plain": [
       "'I'"
      ]
     },
     "execution_count": 46,
     "metadata": {},
     "output_type": "execute_result"
    }
   ],
   "source": [
    "texto[0]"
   ]
  },
  {
   "cell_type": "markdown",
   "id": "5e796865",
   "metadata": {},
   "source": [
    "También podemos extraer más de un caracter usando ``[a:b]``. tener en cuenta que en Python sería ``[a , b>`` (slicing)"
   ]
  },
  {
   "cell_type": "code",
   "execution_count": 47,
   "id": "5137609f",
   "metadata": {},
   "outputs": [
    {
     "data": {
      "text/plain": [
       "'yt'"
      ]
     },
     "execution_count": 47,
     "metadata": {},
     "output_type": "execute_result"
    }
   ],
   "source": [
    "var[1:3]"
   ]
  },
  {
   "cell_type": "code",
   "execution_count": 48,
   "id": "df1a781a",
   "metadata": {},
   "outputs": [
    {
     "data": {
      "text/plain": [
       "'Pyth'"
      ]
     },
     "execution_count": 48,
     "metadata": {},
     "output_type": "execute_result"
    }
   ],
   "source": [
    "var[:4]"
   ]
  },
  {
   "cell_type": "code",
   "execution_count": 50,
   "id": "9211311f",
   "metadata": {},
   "outputs": [
    {
     "data": {
      "text/plain": [
       "'ython'"
      ]
     },
     "execution_count": 50,
     "metadata": {},
     "output_type": "execute_result"
    }
   ],
   "source": [
    "var[1:]"
   ]
  },
  {
   "cell_type": "code",
   "execution_count": 53,
   "id": "e14141c0",
   "metadata": {},
   "outputs": [
    {
     "data": {
      "text/plain": [
       "'ython'"
      ]
     },
     "execution_count": 53,
     "metadata": {},
     "output_type": "execute_result"
    }
   ],
   "source": [
    "var[-5:]"
   ]
  },
  {
   "cell_type": "markdown",
   "id": "b4753663",
   "metadata": {},
   "source": [
    "### Métodos de Strings"
   ]
  },
  {
   "cell_type": "code",
   "execution_count": 54,
   "id": "5fe9e33b",
   "metadata": {},
   "outputs": [],
   "source": [
    "texto = 'Somos el ÁREA que impulsará la Calidad 4.0'"
   ]
  },
  {
   "cell_type": "markdown",
   "id": "8e7a347c",
   "metadata": {},
   "source": [
    "El método ``lower()`` sirve para poner todo el texto en minúscula"
   ]
  },
  {
   "cell_type": "code",
   "execution_count": 57,
   "id": "559f441e",
   "metadata": {},
   "outputs": [
    {
     "data": {
      "text/plain": [
       "'somos el área que impulsará la calidad 4.0'"
      ]
     },
     "execution_count": 57,
     "metadata": {},
     "output_type": "execute_result"
    }
   ],
   "source": [
    "texto.lower()"
   ]
  },
  {
   "cell_type": "markdown",
   "id": "c5c33c4d",
   "metadata": {},
   "source": [
    "El método ``upper()`` sirve para poner todo el texto en mayúscula"
   ]
  },
  {
   "cell_type": "code",
   "execution_count": 58,
   "id": "9340bcff",
   "metadata": {},
   "outputs": [
    {
     "data": {
      "text/plain": [
       "'SOMOS EL ÁREA QUE IMPULSARÁ LA CALIDAD 4.0'"
      ]
     },
     "execution_count": 58,
     "metadata": {},
     "output_type": "execute_result"
    }
   ],
   "source": [
    "texto.upper()"
   ]
  },
  {
   "cell_type": "markdown",
   "id": "2248c916",
   "metadata": {},
   "source": [
    "El método ``.count()`` sirve para contar las veces que aparce un substring"
   ]
  },
  {
   "cell_type": "code",
   "execution_count": 65,
   "id": "08a0490e",
   "metadata": {},
   "outputs": [
    {
     "data": {
      "text/plain": [
       "4"
      ]
     },
     "execution_count": 65,
     "metadata": {},
     "output_type": "execute_result"
    }
   ],
   "source": [
    "texto.count('a')"
   ]
  },
  {
   "cell_type": "markdown",
   "id": "62e0899c",
   "metadata": {},
   "source": [
    "El método ``.capitalize()`` convierte en mayuscula solo el primer caracter de un string"
   ]
  },
  {
   "cell_type": "code",
   "execution_count": 69,
   "id": "53395664",
   "metadata": {},
   "outputs": [
    {
     "data": {
      "text/plain": [
       "'Somos el área que impulsará la calidad 4.0'"
      ]
     },
     "execution_count": 69,
     "metadata": {},
     "output_type": "execute_result"
    }
   ],
   "source": [
    "texto_nuevo = texto.lower()\n",
    "texto_nuevo.capitalize()"
   ]
  },
  {
   "cell_type": "markdown",
   "id": "5dde53cb",
   "metadata": {},
   "source": [
    "El método ``.title()`` convierte en mayúscula las primeras letras de cada palabra y en mínuscula las demás"
   ]
  },
  {
   "cell_type": "code",
   "execution_count": 71,
   "id": "7090e0f8",
   "metadata": {},
   "outputs": [
    {
     "data": {
      "text/plain": [
       "'Somos El Área Que Impulsará La Calidad 4.0'"
      ]
     },
     "execution_count": 71,
     "metadata": {},
     "output_type": "execute_result"
    }
   ],
   "source": [
    "texto.title()"
   ]
  },
  {
   "cell_type": "markdown",
   "id": "489bef4e",
   "metadata": {},
   "source": [
    "El método ``.replace()`` remplaza un substring a otro que le indiquemos"
   ]
  },
  {
   "cell_type": "code",
   "execution_count": 75,
   "id": "5b941cbd",
   "metadata": {},
   "outputs": [
    {
     "data": {
      "text/plain": [
       "'Somos el ÁREA que impulsará la Calidad 5.0'"
      ]
     },
     "execution_count": 75,
     "metadata": {},
     "output_type": "execute_result"
    }
   ],
   "source": [
    "texto.replace('4.','5.')"
   ]
  },
  {
   "cell_type": "markdown",
   "id": "7745bcae",
   "metadata": {},
   "source": [
    "El método ``.split()`` divide el string y cada elemento (string) los ingresa en una lista"
   ]
  },
  {
   "cell_type": "code",
   "execution_count": 84,
   "id": "29420bef",
   "metadata": {},
   "outputs": [
    {
     "data": {
      "text/plain": [
       "['Somos', 'el', 'ÁREA', 'que', 'impulsará', 'la', 'Calidad', '4.0']"
      ]
     },
     "execution_count": 84,
     "metadata": {},
     "output_type": "execute_result"
    }
   ],
   "source": [
    "texto.split(' ')"
   ]
  },
  {
   "cell_type": "markdown",
   "id": "c6a1c2ff",
   "metadata": {},
   "source": [
    "El método ``.find()`` nos permite ubicar el indice en donde se encuentra el sbstring"
   ]
  },
  {
   "cell_type": "code",
   "execution_count": 91,
   "id": "53c55962",
   "metadata": {},
   "outputs": [
    {
     "data": {
      "text/plain": [
       "31"
      ]
     },
     "execution_count": 91,
     "metadata": {},
     "output_type": "execute_result"
    }
   ],
   "source": [
    "texto.find('Calid')"
   ]
  },
  {
   "cell_type": "markdown",
   "id": "280c11b2",
   "metadata": {},
   "source": [
    "El método ``.len()`` nos da el tamaño de un string"
   ]
  },
  {
   "cell_type": "code",
   "execution_count": 92,
   "id": "d365bc66",
   "metadata": {},
   "outputs": [
    {
     "data": {
      "text/plain": [
       "42"
      ]
     },
     "execution_count": 92,
     "metadata": {},
     "output_type": "execute_result"
    }
   ],
   "source": [
    "len(texto)"
   ]
  },
  {
   "cell_type": "markdown",
   "id": "f95c0d9b",
   "metadata": {},
   "source": [
    "## Estructuras de datos\n",
    "\n",
    "* ``Lista``\n",
    "* ``Tupla``\n",
    "* ``Diccionario``\n",
    "* ``Set``\n",
    "\n",
    "### Creación de Listas\n",
    " **Lista**: es una colección ordenada de valores de cualquier tipo\n"
   ]
  },
  {
   "cell_type": "code",
   "execution_count": null,
   "id": "6e58aa64",
   "metadata": {},
   "outputs": [],
   "source": []
  },
  {
   "cell_type": "markdown",
   "id": "9137c93e",
   "metadata": {},
   "source": [
    "### Creación de Tuplas\n",
    " **Tupla**: es una colección ordenada de valores de cualquier tipo, que es inmutable"
   ]
  },
  {
   "cell_type": "code",
   "execution_count": null,
   "id": "b1fba821",
   "metadata": {},
   "outputs": [],
   "source": []
  },
  {
   "cell_type": "markdown",
   "id": "ffff0038",
   "metadata": {},
   "source": [
    "### Creación de Diccionarios\n",
    " **Diccionario**: es una colección no ordenada de ``claves`` y ``valores``. Donde las claves son únicas"
   ]
  },
  {
   "cell_type": "code",
   "execution_count": null,
   "id": "16e5b5fd",
   "metadata": {},
   "outputs": [],
   "source": []
  },
  {
   "cell_type": "markdown",
   "id": "15263d50",
   "metadata": {},
   "source": [
    "### Creación de Sets\n",
    " **Diccionario**: es una colección no ordenada de objetos (mismo o diferentes tipos). Sin elementos duplicados"
   ]
  },
  {
   "cell_type": "code",
   "execution_count": null,
   "id": "f7ad2ec3",
   "metadata": {},
   "outputs": [],
   "source": []
  },
  {
   "cell_type": "markdown",
   "id": "95ea0638",
   "metadata": {},
   "source": [
    "## Estructura de control\n",
    "### Condicionales\n",
    "### Bucles"
   ]
  },
  {
   "cell_type": "code",
   "execution_count": null,
   "id": "30c528be",
   "metadata": {},
   "outputs": [],
   "source": []
  },
  {
   "cell_type": "markdown",
   "id": "f84f8204",
   "metadata": {},
   "source": [
    "## Funciones"
   ]
  },
  {
   "cell_type": "code",
   "execution_count": null,
   "id": "86c9f6bb",
   "metadata": {},
   "outputs": [],
   "source": []
  }
 ],
 "metadata": {
  "kernelspec": {
   "display_name": "Python 3 (ipykernel)",
   "language": "python",
   "name": "python3"
  },
  "language_info": {
   "codemirror_mode": {
    "name": "ipython",
    "version": 3
   },
   "file_extension": ".py",
   "mimetype": "text/x-python",
   "name": "python",
   "nbconvert_exporter": "python",
   "pygments_lexer": "ipython3",
   "version": "3.9.7"
  },
  "toc": {
   "base_numbering": 1,
   "nav_menu": {},
   "number_sections": true,
   "sideBar": true,
   "skip_h1_title": false,
   "title_cell": "Table of Contents",
   "title_sidebar": "Contents",
   "toc_cell": false,
   "toc_position": {
    "height": "calc(100% - 180px)",
    "left": "10px",
    "top": "150px",
    "width": "248px"
   },
   "toc_section_display": true,
   "toc_window_display": true
  },
  "varInspector": {
   "cols": {
    "lenName": 16,
    "lenType": 16,
    "lenVar": 40
   },
   "kernels_config": {
    "python": {
     "delete_cmd_postfix": "",
     "delete_cmd_prefix": "del ",
     "library": "var_list.py",
     "varRefreshCmd": "print(var_dic_list())"
    },
    "r": {
     "delete_cmd_postfix": ") ",
     "delete_cmd_prefix": "rm(",
     "library": "var_list.r",
     "varRefreshCmd": "cat(var_dic_list()) "
    }
   },
   "oldHeight": 423.844,
   "position": {
    "height": "445.844px",
    "left": "1070px",
    "right": "20px",
    "top": "95px",
    "width": "340px"
   },
   "types_to_exclude": [
    "module",
    "function",
    "builtin_function_or_method",
    "instance",
    "_Feature"
   ],
   "varInspector_section_display": "block",
   "window_display": false
  }
 },
 "nbformat": 4,
 "nbformat_minor": 5
}
