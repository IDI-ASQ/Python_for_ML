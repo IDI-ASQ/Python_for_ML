{
 "cells": [
  {
   "cell_type": "markdown",
   "id": "a4e82dc2",
   "metadata": {},
   "source": [
    "# Operaciones aritméticas básicas"
   ]
  },
  {
   "cell_type": "code",
   "execution_count": 8,
   "id": "8c878b87",
   "metadata": {},
   "outputs": [
    {
     "name": "stdout",
     "output_type": "stream",
     "text": [
      "9\n",
      "1\n",
      "20\n",
      "0.7142857142857143\n",
      "1\n",
      "9\n",
      "9.0\n",
      "3.3166247903554\n",
      "3.3166247903554\n"
     ]
    }
   ],
   "source": [
    "# Suma \n",
    "print(4+5)\n",
    "\n",
    "# Resta\n",
    "print(5-4)\n",
    "\n",
    "# Multiplicacion\n",
    "print(2*10)\n",
    "\n",
    "# División\n",
    "print(5/7)\n",
    "\n",
    "# Residuo de una división\n",
    "print(11%2)\n",
    "\n",
    "# Potencia\n",
    "print(3**2)\n",
    "import math\n",
    "print(math.pow(3,2))\n",
    "\n",
    "# Raiz cuadrada\n",
    "print(11**(1/2))\n",
    "print(math.sqrt(11))"
   ]
  },
  {
   "cell_type": "markdown",
   "id": "8c0bd5d8",
   "metadata": {},
   "source": [
    "# Cadenas y tipo de dato lógico"
   ]
  },
  {
   "cell_type": "markdown",
   "id": "fa4573fe",
   "metadata": {},
   "source": [
    "# Expresione"
   ]
  }
 ],
 "metadata": {
  "kernelspec": {
   "display_name": "Python 3 (ipykernel)",
   "language": "python",
   "name": "python3"
  },
  "language_info": {
   "codemirror_mode": {
    "name": "ipython",
    "version": 3
   },
   "file_extension": ".py",
   "mimetype": "text/x-python",
   "name": "python",
   "nbconvert_exporter": "python",
   "pygments_lexer": "ipython3",
   "version": "3.9.7"
  },
  "toc": {
   "base_numbering": 1,
   "nav_menu": {},
   "number_sections": true,
   "sideBar": true,
   "skip_h1_title": false,
   "title_cell": "Table of Contents",
   "title_sidebar": "Contents",
   "toc_cell": false,
   "toc_position": {},
   "toc_section_display": true,
   "toc_window_display": false
  },
  "varInspector": {
   "cols": {
    "lenName": 16,
    "lenType": 16,
    "lenVar": 40
   },
   "kernels_config": {
    "python": {
     "delete_cmd_postfix": "",
     "delete_cmd_prefix": "del ",
     "library": "var_list.py",
     "varRefreshCmd": "print(var_dic_list())"
    },
    "r": {
     "delete_cmd_postfix": ") ",
     "delete_cmd_prefix": "rm(",
     "library": "var_list.r",
     "varRefreshCmd": "cat(var_dic_list()) "
    }
   },
   "types_to_exclude": [
    "module",
    "function",
    "builtin_function_or_method",
    "instance",
    "_Feature"
   ],
   "window_display": false
  }
 },
 "nbformat": 4,
 "nbformat_minor": 5
}
