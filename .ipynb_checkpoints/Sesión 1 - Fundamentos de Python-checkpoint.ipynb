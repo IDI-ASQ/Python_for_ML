{
 "cells": [
  {
   "cell_type": "markdown",
   "id": "7f95f1fd",
   "metadata": {},
   "source": [
    "# Fundamentos de Python\n",
    "\n",
    "***Elaborado por:*** Carlos Enrique Rondan Poma, Director de ``I+D+I`` de ASQ UNI\n",
    "\n",
    "Redes sociales:\n",
    "[Linkedin](https://www.linkedin.com/in/carlosrondanp/), [Facebook](https://www.facebook.com/carlos.rondan.p/)"
   ]
  },
  {
   "cell_type": "markdown",
   "id": "9507e029",
   "metadata": {},
   "source": [
    "## Variables y Tipos de datos\n",
    "\n",
    "**Variable**: Una variable consta de un espacio en la memoria y un símbolo (nombre de la variable, identificador) que está asociado a dicho espacio.\n",
    "\n",
    "Tipos de datos:\n",
    "\n",
    "* ``int`` $\\rightarrow$ Números enteros\n",
    "* ``float`` $\\rightarrow$ Números decimales (coma flotante)\n",
    "* ``str`` $\\rightarrow$ Cadena de caracteres\n",
    "* ``bool`` $\\rightarrow$  True/false\n",
    "\n",
    "``nombre_variable = valor``\n",
    "\n",
    "<div class=\"alert alert-block alert-warning\">\n",
    "    <b>Nota:</b> Asignamos los datos sin indicar de qué tipo son.\n",
    "</div>\n",
    "\n",
    "---\n",
    "Ingrese al siguiente [link](https://www.youtube.com/)\n",
    "\n",
    "\n",
    "$$\\int\\limits_{a}^b f(x)\\mathrm{d}(x) = F(x)$$\n"
   ]
  },
  {
   "cell_type": "code",
   "execution_count": 198,
   "id": "d885a954",
   "metadata": {},
   "outputs": [
    {
     "data": {
      "text/plain": [
       "20"
      ]
     },
     "execution_count": 198,
     "metadata": {},
     "output_type": "execute_result"
    }
   ],
   "source": [
    "# int -> Tipo de dato entero\n",
    "a = 20\n",
    "a"
   ]
  },
  {
   "cell_type": "code",
   "execution_count": 199,
   "id": "b4fcd4b2",
   "metadata": {},
   "outputs": [
    {
     "data": {
      "text/plain": [
       "20.498"
      ]
     },
     "execution_count": 199,
     "metadata": {},
     "output_type": "execute_result"
    }
   ],
   "source": [
    "# float -> Tipo de dato decimal\n",
    "b = 20.498\n",
    "b"
   ]
  },
  {
   "cell_type": "code",
   "execution_count": 200,
   "id": "2cdb2eda",
   "metadata": {},
   "outputs": [
    {
     "data": {
      "text/plain": [
       "'ASQ UNI - IDI'"
      ]
     },
     "execution_count": 200,
     "metadata": {},
     "output_type": "execute_result"
    }
   ],
   "source": [
    "# str -> Tipo de dato \"cadena de caracteres\"\n",
    "c = 'ASQ UNI - IDI'\n",
    "c"
   ]
  },
  {
   "cell_type": "code",
   "execution_count": 201,
   "id": "541e2015",
   "metadata": {},
   "outputs": [
    {
     "data": {
      "text/plain": [
       "True"
      ]
     },
     "execution_count": 201,
     "metadata": {},
     "output_type": "execute_result"
    }
   ],
   "source": [
    "d = True\n",
    "d"
   ]
  },
  {
   "cell_type": "markdown",
   "id": "d2c255a8",
   "metadata": {},
   "source": [
    "<div class=\"alert alert-block alert-success\">\n",
    "    <b>Recomendación:</b> Nombre de variables, por ejemplo: \n",
    "    <ul>\n",
    "        <li>NuevaVariable\n",
    "        <li>Nueva_Variable \n",
    "        <li>nueva_variable\n",
    "    </ul>    \n",
    "</div>\n",
    "\n",
    "<div class=\"alert alert-block alert-info\">\n",
    "    <b>del:</b> es una función de python que nos permite eliminar las variables que no usaremos  \n",
    "</div>"
   ]
  },
  {
   "cell_type": "code",
   "execution_count": 202,
   "id": "e7b15fc7",
   "metadata": {},
   "outputs": [
    {
     "data": {
      "text/plain": [
       "(int, float, str, bool)"
      ]
     },
     "execution_count": 202,
     "metadata": {},
     "output_type": "execute_result"
    }
   ],
   "source": [
    "type(a), type(b), type(c), type(d)"
   ]
  },
  {
   "cell_type": "markdown",
   "id": "e2ca0564",
   "metadata": {},
   "source": [
    "<div class=\"alert alert-block alert-success\">\n",
    "    <b>Recomendación:</b> Usar la librería keyword y usar el método kwlist para ver todas las palabras clave de Python\n",
    "</div>"
   ]
  },
  {
   "cell_type": "code",
   "execution_count": 203,
   "id": "e0f9c964",
   "metadata": {},
   "outputs": [
    {
     "data": {
      "text/plain": [
       "['False',\n",
       " 'None',\n",
       " 'True',\n",
       " '__peg_parser__',\n",
       " 'and',\n",
       " 'as',\n",
       " 'assert',\n",
       " 'async',\n",
       " 'await',\n",
       " 'break',\n",
       " 'class',\n",
       " 'continue',\n",
       " 'def',\n",
       " 'del',\n",
       " 'elif',\n",
       " 'else',\n",
       " 'except',\n",
       " 'finally',\n",
       " 'for',\n",
       " 'from',\n",
       " 'global',\n",
       " 'if',\n",
       " 'import',\n",
       " 'in',\n",
       " 'is',\n",
       " 'lambda',\n",
       " 'nonlocal',\n",
       " 'not',\n",
       " 'or',\n",
       " 'pass',\n",
       " 'raise',\n",
       " 'return',\n",
       " 'try',\n",
       " 'while',\n",
       " 'with',\n",
       " 'yield']"
      ]
     },
     "execution_count": 203,
     "metadata": {},
     "output_type": "execute_result"
    }
   ],
   "source": [
    "import keyword\n",
    "keyword.kwlist"
   ]
  },
  {
   "cell_type": "markdown",
   "id": "1f7c8b83",
   "metadata": {},
   "source": [
    "## Operaciones aritméticas"
   ]
  },
  {
   "cell_type": "code",
   "execution_count": 204,
   "id": "713cf335",
   "metadata": {
    "scrolled": true
   },
   "outputs": [
    {
     "name": "stdout",
     "output_type": "stream",
     "text": [
      "Suma: 9\n",
      "Resta: -3\n",
      "Multiplicacion: 20\n",
      "División: 0.5\n",
      "Divisín entera: 2\n",
      "Modulo: 1\n",
      "Potencia:  49\n",
      "Raiz cuadrada:  1.4142135623730951\n"
     ]
    }
   ],
   "source": [
    "print('Suma:',1+8)\n",
    "print('Resta:',2-5)\n",
    "print('Multiplicacion:',2*10)\n",
    "print('División:',2/4)\n",
    "print('Divisín entera:',5//2)\n",
    "print('Modulo:',5%2) # el módulo es el residuo de una división --> 5 = 2*2 +1 = D = d*q + r \n",
    "print('Potencia: ', 7**2)\n",
    "print('Raiz cuadrada: ', 2**(1/2))"
   ]
  },
  {
   "cell_type": "markdown",
   "id": "2625d085",
   "metadata": {},
   "source": [
    "<div class=\"alert alert-block alert-info\">\n",
    "    <b>math:</b> Librería que nos permite usar pow y sqrt (operaciones atirméticas y trigonométricas)\n",
    "</div>"
   ]
  },
  {
   "cell_type": "code",
   "execution_count": 205,
   "id": "e4a3cb08",
   "metadata": {},
   "outputs": [
    {
     "name": "stdout",
     "output_type": "stream",
     "text": [
      "Potencia:  49.0\n",
      "Raiz cuadrada:  1.4142135623730951\n"
     ]
    }
   ],
   "source": [
    "import math\n",
    "print('Potencia: ',math.pow(7,2))\n",
    "print('Raiz cuadrada: ', math.sqrt(2))"
   ]
  },
  {
   "cell_type": "code",
   "execution_count": 206,
   "id": "be993990",
   "metadata": {},
   "outputs": [
    {
     "name": "stdout",
     "output_type": "stream",
     "text": [
      "pi:  3.141592653589793\n",
      "e:  2.718281828459045\n"
     ]
    }
   ],
   "source": [
    "# adicionalmente podemos acceder a constantes\n",
    "print('pi: ',math.pi)\n",
    "print('e: ', math.e) #base del logaritmo neperiano"
   ]
  },
  {
   "cell_type": "code",
   "execution_count": 207,
   "id": "85ef9196",
   "metadata": {},
   "outputs": [],
   "source": [
    "#help(math)"
   ]
  },
  {
   "cell_type": "markdown",
   "id": "15ffa259",
   "metadata": {},
   "source": [
    "* **algoritmo**: Conjunto de operaciones sistemáticas que permiten hallar la solución a un problema\n",
    "* **Función**: Es un bloque de código con un nombre asociado, que recibe 0 o más argumentos y sigue una secuencia de sentencias, las cuales devuelven un valor y/o realiza una tarea\n",
    "* **Script**: Archivo diseñado para ser ejecutado. Puede conetener Funciones , programas, etc.\n",
    "* **Módulo**: Script que contiene colecciones de funciones, definiciones y declaraciones de ``python``"
   ]
  },
  {
   "cell_type": "markdown",
   "id": "49e98909",
   "metadata": {},
   "source": [
    "<div class=\"alert alert-block alert-warning\">\n",
    "    <b>Casting:</b> Convertir tipo de dato, por ejemplo int(8.0) -> 8 o también float(7) -> 7.0\n",
    "</div>\n",
    "\n",
    "<div class=\"alert alert-block alert-danger\">\n",
    "    <b>Observación:</b> Tener cuidado al castear una variable float, por ejemplo int(8.4) --> 8, lo cual significa que se ha truncado la variable y se ha perdido información  \n",
    "</div>"
   ]
  },
  {
   "cell_type": "markdown",
   "id": "034384ef",
   "metadata": {},
   "source": [
    "## Variable String\n",
    "**String**: Cadena ordenada de caracteres (cadena de texto)\n",
    "\n",
    "Podemos crear un string usando ``' '`` o ``\" \"``"
   ]
  },
  {
   "cell_type": "code",
   "execution_count": 208,
   "id": "b72c0e3d",
   "metadata": {},
   "outputs": [
    {
     "data": {
      "text/plain": [
       "'I+D+I'"
      ]
     },
     "execution_count": 208,
     "metadata": {},
     "output_type": "execute_result"
    }
   ],
   "source": [
    "a = 'I+D+I'\n",
    "a"
   ]
  },
  {
   "cell_type": "code",
   "execution_count": 209,
   "id": "9c8788da",
   "metadata": {},
   "outputs": [
    {
     "data": {
      "text/plain": [
       "str"
      ]
     },
     "execution_count": 209,
     "metadata": {},
     "output_type": "execute_result"
    }
   ],
   "source": [
    "type(a)"
   ]
  },
  {
   "cell_type": "code",
   "execution_count": 210,
   "id": "419a2198",
   "metadata": {},
   "outputs": [
    {
     "name": "stdout",
     "output_type": "stream",
     "text": [
      "ASQ UNI - IDI, La mejor área\n",
      "ASQ UNI - IDI, La mejor área\n"
     ]
    }
   ],
   "source": [
    "# Imprimir (print)\n",
    "print('ASQ UNI - IDI, La mejor área')\n",
    "print(\"ASQ UNI - IDI, La mejor área\")"
   ]
  },
  {
   "cell_type": "markdown",
   "id": "ffa0a984",
   "metadata": {},
   "source": [
    "### Comillas dentro de un string"
   ]
  },
  {
   "cell_type": "code",
   "execution_count": 211,
   "id": "f45ed9f9",
   "metadata": {},
   "outputs": [
    {
     "name": "stdout",
     "output_type": "stream",
     "text": [
      "usaremos 'comillas' dentro de un string\n",
      "usaremos \"comillas\" dentro de un string\n"
     ]
    }
   ],
   "source": [
    "a = 'usaremos \\'comillas\\' dentro de un string' \n",
    "b = 'usaremos \\\"comillas\\\" dentro de un string' \n",
    "print(a)\n",
    "print(b)"
   ]
  },
  {
   "cell_type": "markdown",
   "id": "9adbfed7",
   "metadata": {},
   "source": [
    "### Operaciones con Strings"
   ]
  },
  {
   "cell_type": "code",
   "execution_count": 212,
   "id": "00ec2376",
   "metadata": {},
   "outputs": [
    {
     "data": {
      "text/plain": [
       "'Carlos, Director IDI'"
      ]
     },
     "execution_count": 212,
     "metadata": {},
     "output_type": "execute_result"
    }
   ],
   "source": [
    "## Concatenación\n",
    "a = 'Carlos, '\n",
    "b = 'Director IDI'\n",
    "a+b"
   ]
  },
  {
   "cell_type": "code",
   "execution_count": 213,
   "id": "048b2287",
   "metadata": {},
   "outputs": [
    {
     "data": {
      "text/plain": [
       "'Haré la tarea xd, Haré la tarea xd, Haré la tarea xd, Haré la tarea xd, Haré la tarea xd, '"
      ]
     },
     "execution_count": 213,
     "metadata": {},
     "output_type": "execute_result"
    }
   ],
   "source": [
    "## Repetir strings\n",
    "texto = 'Haré la tarea xd, '\n",
    "texto*5"
   ]
  },
  {
   "cell_type": "code",
   "execution_count": 214,
   "id": "5d161f78",
   "metadata": {},
   "outputs": [
    {
     "data": {
      "text/plain": [
       "'1'"
      ]
     },
     "execution_count": 214,
     "metadata": {},
     "output_type": "execute_result"
    }
   ],
   "source": [
    "## Castear una variable numérica\n",
    "numero = 1\n",
    "str(numero)"
   ]
  },
  {
   "cell_type": "markdown",
   "id": "258276c0",
   "metadata": {},
   "source": [
    "Usaremos el método ``.format()`` junto a ``print()`` para poder concatenar las variables"
   ]
  },
  {
   "cell_type": "code",
   "execution_count": 215,
   "id": "1f1ad5fb",
   "metadata": {},
   "outputs": [
    {
     "name": "stdout",
     "output_type": "stream",
     "text": [
      "IDI en ASQ es el número 1\n"
     ]
    }
   ],
   "source": [
    "print('IDI en ASQ es el número {}'.format(numero))"
   ]
  },
  {
   "cell_type": "markdown",
   "id": "5a2cb058",
   "metadata": {},
   "source": [
    "### Substrings\n",
    "Nos servirá para acceder a los acaraceteres de cualquier varaible ``string``"
   ]
  },
  {
   "cell_type": "code",
   "execution_count": 216,
   "id": "dc62da1d",
   "metadata": {},
   "outputs": [],
   "source": [
    "var = 'Python'"
   ]
  },
  {
   "cell_type": "markdown",
   "id": "cd93a798",
   "metadata": {},
   "source": [
    "La cadena de texto 'Python' tiene la siguiente indexación:\n",
    "\n",
    "``\n",
    "P  y  t  h  o  n\n",
    " 0  1  2  3  4  5\n",
    "-6 -5 -4 -3 -2 -1\n",
    "``"
   ]
  },
  {
   "cell_type": "code",
   "execution_count": 217,
   "id": "ed6a837a",
   "metadata": {},
   "outputs": [
    {
     "data": {
      "text/plain": [
       "('n', 'h')"
      ]
     },
     "execution_count": 217,
     "metadata": {},
     "output_type": "execute_result"
    }
   ],
   "source": [
    "var[-1], var[3]"
   ]
  },
  {
   "cell_type": "code",
   "execution_count": 218,
   "id": "648baa07",
   "metadata": {},
   "outputs": [],
   "source": [
    "texto = 'IDI es la mejor área'"
   ]
  },
  {
   "cell_type": "code",
   "execution_count": 219,
   "id": "e759b87b",
   "metadata": {},
   "outputs": [
    {
     "data": {
      "text/plain": [
       "'I'"
      ]
     },
     "execution_count": 219,
     "metadata": {},
     "output_type": "execute_result"
    }
   ],
   "source": [
    "texto[0]"
   ]
  },
  {
   "cell_type": "markdown",
   "id": "5e796865",
   "metadata": {},
   "source": [
    "También podemos extraer más de un caracter usando ``[a:b]``. tener en cuenta que en Python sería ``[a , b>`` (slicing)"
   ]
  },
  {
   "cell_type": "code",
   "execution_count": 220,
   "id": "5137609f",
   "metadata": {},
   "outputs": [
    {
     "data": {
      "text/plain": [
       "'yt'"
      ]
     },
     "execution_count": 220,
     "metadata": {},
     "output_type": "execute_result"
    }
   ],
   "source": [
    "var[1:3]"
   ]
  },
  {
   "cell_type": "code",
   "execution_count": 221,
   "id": "df1a781a",
   "metadata": {},
   "outputs": [
    {
     "data": {
      "text/plain": [
       "'Pyth'"
      ]
     },
     "execution_count": 221,
     "metadata": {},
     "output_type": "execute_result"
    }
   ],
   "source": [
    "var[:4]"
   ]
  },
  {
   "cell_type": "code",
   "execution_count": 222,
   "id": "9211311f",
   "metadata": {},
   "outputs": [
    {
     "data": {
      "text/plain": [
       "'ython'"
      ]
     },
     "execution_count": 222,
     "metadata": {},
     "output_type": "execute_result"
    }
   ],
   "source": [
    "var[1:]"
   ]
  },
  {
   "cell_type": "code",
   "execution_count": 223,
   "id": "e14141c0",
   "metadata": {},
   "outputs": [
    {
     "data": {
      "text/plain": [
       "'ython'"
      ]
     },
     "execution_count": 223,
     "metadata": {},
     "output_type": "execute_result"
    }
   ],
   "source": [
    "var[-5:]"
   ]
  },
  {
   "cell_type": "markdown",
   "id": "b4753663",
   "metadata": {},
   "source": [
    "### Métodos de Strings"
   ]
  },
  {
   "cell_type": "code",
   "execution_count": 224,
   "id": "5fe9e33b",
   "metadata": {},
   "outputs": [],
   "source": [
    "texto = 'Somos el ÁREA que impulsará la Calidad 4.0'"
   ]
  },
  {
   "cell_type": "markdown",
   "id": "8e7a347c",
   "metadata": {},
   "source": [
    "El método ``lower()`` sirve para poner todo el texto en minúscula"
   ]
  },
  {
   "cell_type": "code",
   "execution_count": 225,
   "id": "559f441e",
   "metadata": {},
   "outputs": [
    {
     "data": {
      "text/plain": [
       "'somos el área que impulsará la calidad 4.0'"
      ]
     },
     "execution_count": 225,
     "metadata": {},
     "output_type": "execute_result"
    }
   ],
   "source": [
    "texto.lower()"
   ]
  },
  {
   "cell_type": "markdown",
   "id": "c5c33c4d",
   "metadata": {},
   "source": [
    "El método ``upper()`` sirve para poner todo el texto en mayúscula"
   ]
  },
  {
   "cell_type": "code",
   "execution_count": 226,
   "id": "9340bcff",
   "metadata": {},
   "outputs": [
    {
     "data": {
      "text/plain": [
       "'SOMOS EL ÁREA QUE IMPULSARÁ LA CALIDAD 4.0'"
      ]
     },
     "execution_count": 226,
     "metadata": {},
     "output_type": "execute_result"
    }
   ],
   "source": [
    "texto.upper()"
   ]
  },
  {
   "cell_type": "markdown",
   "id": "2248c916",
   "metadata": {},
   "source": [
    "El método ``.count()`` sirve para contar las veces que aparce un substring"
   ]
  },
  {
   "cell_type": "code",
   "execution_count": 227,
   "id": "08a0490e",
   "metadata": {},
   "outputs": [
    {
     "data": {
      "text/plain": [
       "4"
      ]
     },
     "execution_count": 227,
     "metadata": {},
     "output_type": "execute_result"
    }
   ],
   "source": [
    "texto.count('a')"
   ]
  },
  {
   "cell_type": "markdown",
   "id": "62e0899c",
   "metadata": {},
   "source": [
    "El método ``.capitalize()`` convierte en mayuscula solo el primer caracter de un string"
   ]
  },
  {
   "cell_type": "code",
   "execution_count": 228,
   "id": "53395664",
   "metadata": {},
   "outputs": [
    {
     "data": {
      "text/plain": [
       "'Somos el área que impulsará la calidad 4.0'"
      ]
     },
     "execution_count": 228,
     "metadata": {},
     "output_type": "execute_result"
    }
   ],
   "source": [
    "texto_nuevo = texto.lower()\n",
    "texto_nuevo.capitalize()"
   ]
  },
  {
   "cell_type": "markdown",
   "id": "5dde53cb",
   "metadata": {},
   "source": [
    "El método ``.title()`` convierte en mayúscula las primeras letras de cada palabra y en mínuscula las demás"
   ]
  },
  {
   "cell_type": "code",
   "execution_count": 229,
   "id": "7090e0f8",
   "metadata": {},
   "outputs": [
    {
     "data": {
      "text/plain": [
       "'Somos El Área Que Impulsará La Calidad 4.0'"
      ]
     },
     "execution_count": 229,
     "metadata": {},
     "output_type": "execute_result"
    }
   ],
   "source": [
    "texto.title()"
   ]
  },
  {
   "cell_type": "markdown",
   "id": "489bef4e",
   "metadata": {},
   "source": [
    "El método ``.replace()`` remplaza un substring a otro que le indiquemos"
   ]
  },
  {
   "cell_type": "code",
   "execution_count": 230,
   "id": "5b941cbd",
   "metadata": {},
   "outputs": [
    {
     "data": {
      "text/plain": [
       "'Somos el ÁREA que impulsará la Calidad 5.0'"
      ]
     },
     "execution_count": 230,
     "metadata": {},
     "output_type": "execute_result"
    }
   ],
   "source": [
    "texto.replace('4.','5.')"
   ]
  },
  {
   "cell_type": "markdown",
   "id": "7745bcae",
   "metadata": {},
   "source": [
    "El método ``.split()`` divide el string y cada elemento (string) los ingresa en una lista"
   ]
  },
  {
   "cell_type": "code",
   "execution_count": 231,
   "id": "29420bef",
   "metadata": {},
   "outputs": [
    {
     "data": {
      "text/plain": [
       "['Somos', 'el', 'ÁREA', 'que', 'impulsará', 'la', 'Calidad', '4.0']"
      ]
     },
     "execution_count": 231,
     "metadata": {},
     "output_type": "execute_result"
    }
   ],
   "source": [
    "texto.split(' ')"
   ]
  },
  {
   "cell_type": "markdown",
   "id": "c6a1c2ff",
   "metadata": {},
   "source": [
    "El método ``.find()`` nos permite ubicar el indice en donde se encuentra el sbstring"
   ]
  },
  {
   "cell_type": "code",
   "execution_count": 232,
   "id": "53c55962",
   "metadata": {},
   "outputs": [
    {
     "data": {
      "text/plain": [
       "31"
      ]
     },
     "execution_count": 232,
     "metadata": {},
     "output_type": "execute_result"
    }
   ],
   "source": [
    "texto.find('Calid')"
   ]
  },
  {
   "cell_type": "markdown",
   "id": "280c11b2",
   "metadata": {},
   "source": [
    "El método ``.len()`` nos da el tamaño de un string"
   ]
  },
  {
   "cell_type": "code",
   "execution_count": 233,
   "id": "d365bc66",
   "metadata": {},
   "outputs": [
    {
     "data": {
      "text/plain": [
       "42"
      ]
     },
     "execution_count": 233,
     "metadata": {},
     "output_type": "execute_result"
    }
   ],
   "source": [
    "len(texto)"
   ]
  },
  {
   "cell_type": "markdown",
   "id": "b6092e9c",
   "metadata": {},
   "source": [
    "## Operadores Lógicos / operadores de decisión"
   ]
  },
  {
   "cell_type": "markdown",
   "id": "93da23dd",
   "metadata": {},
   "source": [
    "### Comparadores\n",
    "|Comparador|Significado|\n",
    "|-|-|\n",
    "|<|Menor que|\n",
    "|>|Mayor que|\n",
    "|<=|Menor o igual que|\n",
    "|>=|Mayor o igual que|\n",
    "|==|igual que|\n",
    "|!=|No igual que|"
   ]
  },
  {
   "cell_type": "markdown",
   "id": "28e00b65",
   "metadata": {},
   "source": [
    "### Booleanos\n",
    "|bool|Significado|\n",
    "|-|-|\n",
    "|and|Retorna verdadero si ambas condiciones son verdaderas|\n",
    "|or|Retorna verdadero si algunas o ambas condiciones son verdaderas|\n",
    "|not|Retorna verdadero si la condición es falsa y viceversa|"
   ]
  },
  {
   "cell_type": "markdown",
   "id": "f95c0d9b",
   "metadata": {},
   "source": [
    "## Estructuras de datos\n",
    "\n",
    "* ``Lista``\n",
    "* ``Tupla``\n",
    "* ``Diccionario``\n",
    "* ``Set``\n",
    "\n",
    "### Listas\n",
    " **Lista**: es una colección ordenada de valores de cualquier tipo\n"
   ]
  },
  {
   "cell_type": "code",
   "execution_count": 234,
   "id": "6e58aa64",
   "metadata": {},
   "outputs": [],
   "source": [
    "x = [1,2,3,4]\n",
    "y = ['1','2','3','4']\n",
    "z = [1,2,'3',4,'5']"
   ]
  },
  {
   "cell_type": "code",
   "execution_count": 235,
   "id": "1de0c732",
   "metadata": {},
   "outputs": [
    {
     "data": {
      "text/plain": [
       "([1, 2, 3, 4], ['1', '2', '3', '4'], [1, 2, '3', 4, '5'])"
      ]
     },
     "execution_count": 235,
     "metadata": {},
     "output_type": "execute_result"
    }
   ],
   "source": [
    "x,y,z"
   ]
  },
  {
   "cell_type": "code",
   "execution_count": 236,
   "id": "1ce878a6",
   "metadata": {},
   "outputs": [
    {
     "data": {
      "text/plain": [
       "(list, list, list)"
      ]
     },
     "execution_count": 236,
     "metadata": {},
     "output_type": "execute_result"
    }
   ],
   "source": [
    "type(x), type(y), type(z)"
   ]
  },
  {
   "cell_type": "markdown",
   "id": "e564c633",
   "metadata": {},
   "source": [
    "#### Operaciones con Listas"
   ]
  },
  {
   "cell_type": "code",
   "execution_count": 237,
   "id": "0b014379",
   "metadata": {},
   "outputs": [],
   "source": [
    "lista_1 = [10,10.2,'carlos',[1,2]]"
   ]
  },
  {
   "cell_type": "markdown",
   "id": "e8b1bf82",
   "metadata": {},
   "source": [
    "La lista ``lista_1`` tiene la siguiente indexación:\n",
    "\n",
    "``\n",
    "[ 10,10.2,'carlos',[1,2]]\n",
    "   0    1     2       3 \n",
    "  -4   -3    -2      -1\n",
    "``"
   ]
  },
  {
   "cell_type": "code",
   "execution_count": 238,
   "id": "b6d36dd0",
   "metadata": {},
   "outputs": [
    {
     "data": {
      "text/plain": [
       "([1, 2], [1, 2])"
      ]
     },
     "execution_count": 238,
     "metadata": {},
     "output_type": "execute_result"
    }
   ],
   "source": [
    "# Extraer el cuarto elemento (lista)\n",
    "lista_1[3],  lista_1[-1]"
   ]
  },
  {
   "cell_type": "markdown",
   "id": "8b8c9cc7",
   "metadata": {},
   "source": [
    "Para extraer más de un elemento podemos usar ``slicing`` $\\rightarrow$ ``lista[(incluye): (no incluye)]``"
   ]
  },
  {
   "cell_type": "code",
   "execution_count": 239,
   "id": "4393fc5a",
   "metadata": {},
   "outputs": [
    {
     "data": {
      "text/plain": [
       "[10.2, 'carlos']"
      ]
     },
     "execution_count": 239,
     "metadata": {},
     "output_type": "execute_result"
    }
   ],
   "source": [
    "# extraermos el elemento 1 y 2\n",
    "lista_1[1:3]"
   ]
  },
  {
   "cell_type": "markdown",
   "id": "38215b5a",
   "metadata": {},
   "source": [
    "Concatenación de listas usando ``+``"
   ]
  },
  {
   "cell_type": "code",
   "execution_count": 240,
   "id": "c474b5c3",
   "metadata": {
    "scrolled": true
   },
   "outputs": [
    {
     "data": {
      "text/plain": [
       "[10, 10.2, 'carlos', [1, 2], '2', [1, 2]]"
      ]
     },
     "execution_count": 240,
     "metadata": {},
     "output_type": "execute_result"
    }
   ],
   "source": [
    "lista_1 + ['2',[1,2]]"
   ]
  },
  {
   "cell_type": "markdown",
   "id": "b35de7e7",
   "metadata": {},
   "source": [
    "podemos generar elementos repetidos usando ``*``"
   ]
  },
  {
   "cell_type": "code",
   "execution_count": 241,
   "id": "df4fb161",
   "metadata": {},
   "outputs": [
    {
     "data": {
      "text/plain": [
       "[0]"
      ]
     },
     "execution_count": 241,
     "metadata": {},
     "output_type": "execute_result"
    }
   ],
   "source": [
    "ceros = [0]\n",
    "ceros"
   ]
  },
  {
   "cell_type": "code",
   "execution_count": 242,
   "id": "2dc3fcee",
   "metadata": {},
   "outputs": [
    {
     "data": {
      "text/plain": [
       "[0, 0, 0, 0, 0, 0, 0, 0, 0, 0, 0, 0, 0, 0, 0, 0, 0, 0, 0, 0]"
      ]
     },
     "execution_count": 242,
     "metadata": {},
     "output_type": "execute_result"
    }
   ],
   "source": [
    "ceros*20"
   ]
  },
  {
   "cell_type": "markdown",
   "id": "bf3f86c1",
   "metadata": {},
   "source": [
    "#### Métodos de listas"
   ]
  },
  {
   "cell_type": "markdown",
   "id": "92d3f5c8",
   "metadata": {},
   "source": [
    "Usaremos el método ``len()`` para saer la longitud de una lista"
   ]
  },
  {
   "cell_type": "code",
   "execution_count": 243,
   "id": "e6606486",
   "metadata": {},
   "outputs": [
    {
     "data": {
      "text/plain": [
       "4"
      ]
     },
     "execution_count": 243,
     "metadata": {},
     "output_type": "execute_result"
    }
   ],
   "source": [
    "len(lista_1)"
   ]
  },
  {
   "cell_type": "markdown",
   "id": "c5fce65f",
   "metadata": {},
   "source": [
    "Usaremos el método ``.append()`` para añadir nuevos elementos al final de la lista"
   ]
  },
  {
   "cell_type": "code",
   "execution_count": 244,
   "id": "57752772",
   "metadata": {},
   "outputs": [
    {
     "data": {
      "text/plain": [
       "[10, 10.2, 'carlos', [1, 2]]"
      ]
     },
     "execution_count": 244,
     "metadata": {},
     "output_type": "execute_result"
    }
   ],
   "source": [
    "lista_1"
   ]
  },
  {
   "cell_type": "code",
   "execution_count": 245,
   "id": "14ca72f8",
   "metadata": {},
   "outputs": [
    {
     "data": {
      "text/plain": [
       "[10, 10.2, 'carlos', [1, 2], 2]"
      ]
     },
     "execution_count": 245,
     "metadata": {},
     "output_type": "execute_result"
    }
   ],
   "source": [
    "lista_1.append(2)\n",
    "lista_1"
   ]
  },
  {
   "cell_type": "markdown",
   "id": "b94c87e9",
   "metadata": {},
   "source": [
    "Usaremos el método ``.insert()`` para añadir nuevos elementos a la lista, especificando el ``indice`` donde querramos ubicar"
   ]
  },
  {
   "cell_type": "code",
   "execution_count": 246,
   "id": "3803e3ab",
   "metadata": {},
   "outputs": [
    {
     "data": {
      "text/plain": [
       "[10, 10.2, 'carlos', [1, 2], 2]"
      ]
     },
     "execution_count": 246,
     "metadata": {},
     "output_type": "execute_result"
    }
   ],
   "source": [
    "lista_1"
   ]
  },
  {
   "cell_type": "code",
   "execution_count": 247,
   "id": "32065804",
   "metadata": {},
   "outputs": [
    {
     "data": {
      "text/plain": [
       "[10, 'Aqui toy', 10.2, 'carlos', [1, 2], 2]"
      ]
     },
     "execution_count": 247,
     "metadata": {},
     "output_type": "execute_result"
    }
   ],
   "source": [
    "lista_1.insert(1,'Aqui toy')\n",
    "lista_1"
   ]
  },
  {
   "cell_type": "markdown",
   "id": "dde1b03c",
   "metadata": {},
   "source": [
    "Usaremos el método ``.count()`` para contabilizar la cantidad de veces que se encontrará algun elemento indicado"
   ]
  },
  {
   "cell_type": "code",
   "execution_count": 248,
   "id": "33f90b6f",
   "metadata": {},
   "outputs": [
    {
     "data": {
      "text/plain": [
       "[10, 'Aqui toy', 10.2, 'carlos', [1, 2], 2]"
      ]
     },
     "execution_count": 248,
     "metadata": {},
     "output_type": "execute_result"
    }
   ],
   "source": [
    "lista_1"
   ]
  },
  {
   "cell_type": "code",
   "execution_count": 249,
   "id": "17ad3139",
   "metadata": {},
   "outputs": [
    {
     "data": {
      "text/plain": [
       "1"
      ]
     },
     "execution_count": 249,
     "metadata": {},
     "output_type": "execute_result"
    }
   ],
   "source": [
    "lista_1.count('Aqui toy')"
   ]
  },
  {
   "cell_type": "markdown",
   "id": "72b1c0f3",
   "metadata": {},
   "source": [
    "Usaremos el método ``.index()`` para encontrar la indexación correspondiente a algún elemento buscado"
   ]
  },
  {
   "cell_type": "code",
   "execution_count": 250,
   "id": "39fdee2c",
   "metadata": {},
   "outputs": [
    {
     "data": {
      "text/plain": [
       "4"
      ]
     },
     "execution_count": 250,
     "metadata": {},
     "output_type": "execute_result"
    }
   ],
   "source": [
    "lista_1.index([1,2])"
   ]
  },
  {
   "cell_type": "markdown",
   "id": "9593034b",
   "metadata": {},
   "source": [
    "Usaremos el método ``.remove()`` para quitar la primera coincidencia del elemento que ingresemos"
   ]
  },
  {
   "cell_type": "code",
   "execution_count": 251,
   "id": "da0696a6",
   "metadata": {},
   "outputs": [
    {
     "data": {
      "text/plain": [
       "[10, 'Aqui toy', 10.2, 'carlos', [1, 2]]"
      ]
     },
     "execution_count": 251,
     "metadata": {},
     "output_type": "execute_result"
    }
   ],
   "source": [
    "lista_1.remove(2)\n",
    "lista_1"
   ]
  },
  {
   "cell_type": "markdown",
   "id": "086df09c",
   "metadata": {},
   "source": [
    "Usaremos el método ``.reverse()`` para invertir los elementos de la lista, sin embargo podemos usar ``lista[::-1]``"
   ]
  },
  {
   "cell_type": "code",
   "execution_count": 275,
   "id": "d89b5858",
   "metadata": {},
   "outputs": [
    {
     "data": {
      "text/plain": [
       "[[1, 2], 'carlos', 10.2, 'Aqui toy', 10]"
      ]
     },
     "execution_count": 275,
     "metadata": {},
     "output_type": "execute_result"
    }
   ],
   "source": [
    "lista_1.reverse()\n",
    "lista_1"
   ]
  },
  {
   "cell_type": "code",
   "execution_count": 276,
   "id": "c609fd1e",
   "metadata": {},
   "outputs": [
    {
     "data": {
      "text/plain": [
       "[10, 'Aqui toy', 10.2, 'carlos', [1, 2]]"
      ]
     },
     "execution_count": 276,
     "metadata": {},
     "output_type": "execute_result"
    }
   ],
   "source": [
    "lista_1[::-1]"
   ]
  },
  {
   "cell_type": "code",
   "execution_count": 278,
   "id": "1fbb1e51",
   "metadata": {},
   "outputs": [
    {
     "data": {
      "text/plain": [
       "[[1, 2], 'carlos', 10.2, 'Aqui toy', 10]"
      ]
     },
     "execution_count": 278,
     "metadata": {},
     "output_type": "execute_result"
    }
   ],
   "source": [
    "lista_1"
   ]
  },
  {
   "cell_type": "markdown",
   "id": "2fb991a7",
   "metadata": {},
   "source": [
    "Usaremos el método ``.sort()`` para ordenar los elementos de una lista (para elementos ordenables)"
   ]
  },
  {
   "cell_type": "code",
   "execution_count": 289,
   "id": "0e6e1d16",
   "metadata": {},
   "outputs": [
    {
     "data": {
      "text/plain": [
       "[2, 5, 1, 4]"
      ]
     },
     "execution_count": 289,
     "metadata": {},
     "output_type": "execute_result"
    }
   ],
   "source": [
    "lista_2 = [2,5,1,4]\n",
    "lista_2"
   ]
  },
  {
   "cell_type": "code",
   "execution_count": 292,
   "id": "9447c620",
   "metadata": {},
   "outputs": [
    {
     "data": {
      "text/plain": [
       "[5, 4, 2, 1]"
      ]
     },
     "execution_count": 292,
     "metadata": {},
     "output_type": "execute_result"
    }
   ],
   "source": [
    "lista_2.sort(reverse=True)\n",
    "lista_2"
   ]
  },
  {
   "cell_type": "markdown",
   "id": "6eda31fe",
   "metadata": {},
   "source": [
    "<div class=\"alert alert-block alert-success\">\n",
    "    <b>Nota:</b> Las listas son objetos iterables que son muy usados en las estructuras de control.\n",
    "</div>"
   ]
  },
  {
   "cell_type": "markdown",
   "id": "bbd75bd4",
   "metadata": {},
   "source": [
    "#### Crear nuevas listas"
   ]
  },
  {
   "cell_type": "code",
   "execution_count": 421,
   "id": "c28c754a",
   "metadata": {},
   "outputs": [
    {
     "data": {
      "text/plain": [
       "[1, 2, 3]"
      ]
     },
     "execution_count": 421,
     "metadata": {},
     "output_type": "execute_result"
    }
   ],
   "source": [
    "x = [1,2,3]\n",
    "x"
   ]
  },
  {
   "cell_type": "code",
   "execution_count": 422,
   "id": "12b7203b",
   "metadata": {
    "scrolled": true
   },
   "outputs": [
    {
     "data": {
      "text/plain": [
       "[1, 2, 3]"
      ]
     },
     "execution_count": 422,
     "metadata": {},
     "output_type": "execute_result"
    }
   ],
   "source": [
    "y = x\n",
    "y "
   ]
  },
  {
   "cell_type": "code",
   "execution_count": 423,
   "id": "b23ec0b1",
   "metadata": {},
   "outputs": [
    {
     "data": {
      "text/plain": [
       "([1, 100, 3], [1, 100, 3])"
      ]
     },
     "execution_count": 423,
     "metadata": {},
     "output_type": "execute_result"
    }
   ],
   "source": [
    "y[1] = 100\n",
    "x, y"
   ]
  },
  {
   "cell_type": "code",
   "execution_count": 424,
   "id": "c3314ccb",
   "metadata": {},
   "outputs": [
    {
     "data": {
      "text/plain": [
       "[1, 2, 3]"
      ]
     },
     "execution_count": 424,
     "metadata": {},
     "output_type": "execute_result"
    }
   ],
   "source": [
    "x = [1,2,3]\n",
    "x"
   ]
  },
  {
   "cell_type": "code",
   "execution_count": 425,
   "id": "816a99e5",
   "metadata": {},
   "outputs": [],
   "source": [
    "z = list(x)"
   ]
  },
  {
   "cell_type": "code",
   "execution_count": 426,
   "id": "b2db4c93",
   "metadata": {},
   "outputs": [
    {
     "data": {
      "text/plain": [
       "([1, 2, 3], [1, 100, 3])"
      ]
     },
     "execution_count": 426,
     "metadata": {},
     "output_type": "execute_result"
    }
   ],
   "source": [
    "z[1] = 100\n",
    "x,z"
   ]
  },
  {
   "cell_type": "markdown",
   "id": "9e2becad",
   "metadata": {},
   "source": [
    "#### Matrices con Listas"
   ]
  },
  {
   "cell_type": "code",
   "execution_count": 427,
   "id": "d9085402",
   "metadata": {},
   "outputs": [
    {
     "data": {
      "text/plain": [
       "[['Carlos', 'Luisa', 'Mariana'], [4, 5, [1, 2, 3, 4]]]"
      ]
     },
     "execution_count": 427,
     "metadata": {},
     "output_type": "execute_result"
    }
   ],
   "source": [
    "matriz = [['Carlos','Luisa','Mariana'],\n",
    "          [4,5,[1,2,3,4]]]\n",
    "matriz"
   ]
  },
  {
   "cell_type": "code",
   "execution_count": 428,
   "id": "0cc854b9",
   "metadata": {},
   "outputs": [
    {
     "data": {
      "text/plain": [
       "2"
      ]
     },
     "execution_count": 428,
     "metadata": {},
     "output_type": "execute_result"
    }
   ],
   "source": [
    "len(matriz)"
   ]
  },
  {
   "cell_type": "code",
   "execution_count": 429,
   "id": "226448df",
   "metadata": {},
   "outputs": [
    {
     "data": {
      "text/plain": [
       "[4, 5, [1, 2, 3, 4]]"
      ]
     },
     "execution_count": 429,
     "metadata": {},
     "output_type": "execute_result"
    }
   ],
   "source": [
    "matriz[1]"
   ]
  },
  {
   "cell_type": "code",
   "execution_count": 430,
   "id": "8ed8e1db",
   "metadata": {},
   "outputs": [
    {
     "data": {
      "text/plain": [
       "3"
      ]
     },
     "execution_count": 430,
     "metadata": {},
     "output_type": "execute_result"
    }
   ],
   "source": [
    "matriz[1][2][2]"
   ]
  },
  {
   "cell_type": "code",
   "execution_count": 431,
   "id": "76e73b53",
   "metadata": {},
   "outputs": [
    {
     "data": {
      "text/plain": [
       "[[1, 2, 3], [4, 5, 6]]"
      ]
     },
     "execution_count": 431,
     "metadata": {},
     "output_type": "execute_result"
    }
   ],
   "source": [
    "matriz_numerica = [[1,2,3],\n",
    "                   [4,5,6]]\n",
    "matriz_numerica"
   ]
  },
  {
   "cell_type": "code",
   "execution_count": 432,
   "id": "5f45f53d",
   "metadata": {},
   "outputs": [
    {
     "data": {
      "text/plain": [
       "1"
      ]
     },
     "execution_count": 432,
     "metadata": {},
     "output_type": "execute_result"
    }
   ],
   "source": [
    "a11 = matriz_numerica[0][0]\n",
    "a11"
   ]
  },
  {
   "cell_type": "markdown",
   "id": "9137c93e",
   "metadata": {},
   "source": [
    "### Tuplas\n",
    " **Tupla**: es una colección ordenada de valores de cualquier tipo, que es inmutable"
   ]
  },
  {
   "cell_type": "code",
   "execution_count": 433,
   "id": "b1fba821",
   "metadata": {},
   "outputs": [],
   "source": [
    "tupla = (1,2,3,4)"
   ]
  },
  {
   "cell_type": "markdown",
   "id": "7761128e",
   "metadata": {},
   "source": [
    "<div class=\"alert alert-block alert-danger\">\n",
    "    <b>Nota:</b> es una colección inmutable \n",
    "</div>"
   ]
  },
  {
   "cell_type": "markdown",
   "id": "07c67511",
   "metadata": {},
   "source": [
    "<div class=\"alert alert-block alert-success\">\n",
    "    <b>Recomendación:</b> Si desean hacer mutable una tupla, entonces podemos castear la variable\n",
    "</div>"
   ]
  },
  {
   "cell_type": "code",
   "execution_count": 434,
   "id": "3ebcc0ba",
   "metadata": {},
   "outputs": [],
   "source": [
    "lista_tupla= list(tupla)"
   ]
  },
  {
   "cell_type": "code",
   "execution_count": 435,
   "id": "85ae1b3e",
   "metadata": {},
   "outputs": [
    {
     "data": {
      "text/plain": [
       "[1, 2, 3, 4]"
      ]
     },
     "execution_count": 435,
     "metadata": {},
     "output_type": "execute_result"
    }
   ],
   "source": [
    "lista_tupla"
   ]
  },
  {
   "cell_type": "markdown",
   "id": "767bb199",
   "metadata": {},
   "source": [
    "#### Función ZIP\n",
    "Permite juntar varias ``listas`` en una ``tupla``"
   ]
  },
  {
   "cell_type": "code",
   "execution_count": 436,
   "id": "4940c3dc",
   "metadata": {},
   "outputs": [
    {
     "data": {
      "text/plain": [
       "<zip at 0x1ec29926b00>"
      ]
     },
     "execution_count": 436,
     "metadata": {},
     "output_type": "execute_result"
    }
   ],
   "source": [
    "nombres = ['Carlos','María','Luisa']\n",
    "notas = [14,15,16]\n",
    "\n",
    "zip(nombres, notas)"
   ]
  },
  {
   "cell_type": "code",
   "execution_count": 437,
   "id": "4626e243",
   "metadata": {},
   "outputs": [
    {
     "data": {
      "text/plain": [
       "[('Carlos', 14), ('María', 15), ('Luisa', 16)]"
      ]
     },
     "execution_count": 437,
     "metadata": {},
     "output_type": "execute_result"
    }
   ],
   "source": [
    "list(zip(nombres, notas))"
   ]
  },
  {
   "cell_type": "code",
   "execution_count": 438,
   "id": "da31ffac",
   "metadata": {},
   "outputs": [
    {
     "data": {
      "text/plain": [
       "{'Carlos': 14, 'María': 15, 'Luisa': 16}"
      ]
     },
     "execution_count": 438,
     "metadata": {},
     "output_type": "execute_result"
    }
   ],
   "source": [
    "dict(zip(nombres, notas))"
   ]
  },
  {
   "cell_type": "code",
   "execution_count": 439,
   "id": "c7a230c1",
   "metadata": {},
   "outputs": [
    {
     "data": {
      "text/plain": [
       "(('Carlos', 14), ('María', 15), ('Luisa', 16))"
      ]
     },
     "execution_count": 439,
     "metadata": {},
     "output_type": "execute_result"
    }
   ],
   "source": [
    "tuple(zip(nombres, notas))"
   ]
  },
  {
   "cell_type": "markdown",
   "id": "ffff0038",
   "metadata": {},
   "source": [
    "### Diccionarios\n",
    " **Diccionario**: es una colección no ordenada de ``claves`` y ``valores``. Donde las claves son únicas\n",
    " \n",
    " ``\n",
    "nombre_diccionario = {'clave_1': valor_1,\n",
    "                      'clave_2': valor_2 ...}\n",
    "``"
   ]
  },
  {
   "cell_type": "code",
   "execution_count": 450,
   "id": "16e5b5fd",
   "metadata": {},
   "outputs": [],
   "source": [
    "registro_dic = {'Carlos': 12,\n",
    "               'Jhon': 13,\n",
    "               'Luisa':15,\n",
    "               'Verónica': 18}"
   ]
  },
  {
   "cell_type": "code",
   "execution_count": 453,
   "id": "7f9b38f3",
   "metadata": {},
   "outputs": [
    {
     "data": {
      "text/plain": [
       "15"
      ]
     },
     "execution_count": 453,
     "metadata": {},
     "output_type": "execute_result"
    }
   ],
   "source": [
    "registro_dic['Luisa']"
   ]
  },
  {
   "cell_type": "markdown",
   "id": "13bf3f6c",
   "metadata": {},
   "source": [
    "Nos ayuda a ubicar la clave o claves de alguna llave de forma más sencilla, comparandolo con las listas"
   ]
  },
  {
   "cell_type": "code",
   "execution_count": 454,
   "id": "98704e2f",
   "metadata": {},
   "outputs": [],
   "source": [
    "nom_alumnos = ['Carlos','Jhon','Luisa','Verónica']\n",
    "notas = [12,13,15,18]"
   ]
  },
  {
   "cell_type": "code",
   "execution_count": 455,
   "id": "134eccb9",
   "metadata": {},
   "outputs": [
    {
     "data": {
      "text/plain": [
       "2"
      ]
     },
     "execution_count": 455,
     "metadata": {},
     "output_type": "execute_result"
    }
   ],
   "source": [
    "nom_alumnos_luisa = nom_alumnos.index('Luisa')\n",
    "nom_alumnos_luisa"
   ]
  },
  {
   "cell_type": "code",
   "execution_count": 457,
   "id": "5dcb454a",
   "metadata": {},
   "outputs": [
    {
     "data": {
      "text/plain": [
       "15"
      ]
     },
     "execution_count": 457,
     "metadata": {},
     "output_type": "execute_result"
    }
   ],
   "source": [
    "notas[nom_alumnos_luisa]"
   ]
  },
  {
   "cell_type": "markdown",
   "id": "ff467617",
   "metadata": {},
   "source": [
    "#### Operaciones con diccionarios"
   ]
  },
  {
   "cell_type": "code",
   "execution_count": 465,
   "id": "f0396f2f",
   "metadata": {},
   "outputs": [],
   "source": [
    "registro_dic = {'Carlos': 12,\n",
    "               'Jhon': 13,\n",
    "               'Luisa':15,\n",
    "               'Verónica': 18}"
   ]
  },
  {
   "cell_type": "markdown",
   "id": "e9bdc737",
   "metadata": {},
   "source": [
    "Usaremos el método ``.keys()`` para mostrar todas las ``claves`` de un diccionario"
   ]
  },
  {
   "cell_type": "code",
   "execution_count": 468,
   "id": "4559ab88",
   "metadata": {},
   "outputs": [
    {
     "data": {
      "text/plain": [
       "dict_keys(['Carlos', 'Jhon', 'Luisa', 'Verónica'])"
      ]
     },
     "execution_count": 468,
     "metadata": {},
     "output_type": "execute_result"
    }
   ],
   "source": [
    "registro_dic.keys()"
   ]
  },
  {
   "cell_type": "markdown",
   "id": "eba5793c",
   "metadata": {},
   "source": [
    "Usaremos el método ``.values()`` para mostrar todos los ``valores`` de un diccionario"
   ]
  },
  {
   "cell_type": "code",
   "execution_count": 470,
   "id": "93a484f4",
   "metadata": {},
   "outputs": [
    {
     "data": {
      "text/plain": [
       "dict_values([12, 13, 15, 18])"
      ]
     },
     "execution_count": 470,
     "metadata": {},
     "output_type": "execute_result"
    }
   ],
   "source": [
    "registro_dic.values()"
   ]
  },
  {
   "cell_type": "markdown",
   "id": "6c352273",
   "metadata": {},
   "source": [
    "Usaremos el método ``len()`` para mostrar indicar el tamaño de un diccionario (pares de elementos)"
   ]
  },
  {
   "cell_type": "code",
   "execution_count": 471,
   "id": "4d295029",
   "metadata": {},
   "outputs": [
    {
     "data": {
      "text/plain": [
       "4"
      ]
     },
     "execution_count": 471,
     "metadata": {},
     "output_type": "execute_result"
    }
   ],
   "source": [
    "len(registro_dic)"
   ]
  },
  {
   "cell_type": "markdown",
   "id": "15263d50",
   "metadata": {},
   "source": [
    "### Sets\n",
    " **Conjunto**: es una colección no ordenada de objetos (mismo o diferentes tipos). Sin elementos duplicados, no mutables"
   ]
  },
  {
   "cell_type": "code",
   "execution_count": 473,
   "id": "f7ad2ec3",
   "metadata": {},
   "outputs": [
    {
     "data": {
      "text/plain": [
       "{1, 2, 3, 4}"
      ]
     },
     "execution_count": 473,
     "metadata": {},
     "output_type": "execute_result"
    }
   ],
   "source": [
    "conjunto = {1,2,2,2,3,4}\n",
    "conjunto"
   ]
  },
  {
   "cell_type": "markdown",
   "id": "1e962eeb",
   "metadata": {},
   "source": [
    "#### Operaciones con conjuntos"
   ]
  },
  {
   "cell_type": "code",
   "execution_count": 482,
   "id": "3190f23b",
   "metadata": {},
   "outputs": [],
   "source": [
    "A = {1,2,3,4}\n",
    "B = {3,4,5,6}"
   ]
  },
  {
   "cell_type": "markdown",
   "id": "f91fb5ea",
   "metadata": {},
   "source": [
    "podemos usar el operador lógico ``|`` o el método ``.union`` para unir conjuntos"
   ]
  },
  {
   "cell_type": "code",
   "execution_count": 485,
   "id": "4f12efde",
   "metadata": {},
   "outputs": [
    {
     "data": {
      "text/plain": [
       "({1, 2, 3, 4, 5, 6}, {1, 2, 3, 4, 5, 6})"
      ]
     },
     "execution_count": 485,
     "metadata": {},
     "output_type": "execute_result"
    }
   ],
   "source": [
    "A | B, A.union(B)"
   ]
  },
  {
   "cell_type": "markdown",
   "id": "477b877e",
   "metadata": {},
   "source": [
    "podemos usar el operador lógico ``&`` o el método ``.intersection`` para intersecar conjuntos"
   ]
  },
  {
   "cell_type": "code",
   "execution_count": 488,
   "id": "b199701a",
   "metadata": {},
   "outputs": [
    {
     "data": {
      "text/plain": [
       "({3, 4}, {3, 4})"
      ]
     },
     "execution_count": 488,
     "metadata": {},
     "output_type": "execute_result"
    }
   ],
   "source": [
    "A & B, A.intersection(B)"
   ]
  },
  {
   "cell_type": "markdown",
   "id": "fd4acb6d",
   "metadata": {},
   "source": [
    "podemos usar el operador lógico ``-`` o el método ``.difference`` para unir realizar la operación ed diferencia de conjutnos"
   ]
  },
  {
   "cell_type": "code",
   "execution_count": 489,
   "id": "03a2b663",
   "metadata": {},
   "outputs": [
    {
     "data": {
      "text/plain": [
       "({1, 2}, {1, 2})"
      ]
     },
     "execution_count": 489,
     "metadata": {},
     "output_type": "execute_result"
    }
   ],
   "source": [
    "A - B, A.difference(B)"
   ]
  },
  {
   "cell_type": "markdown",
   "id": "95ea0638",
   "metadata": {},
   "source": [
    "## Estructura de control\n",
    "### Condicionales\n",
    "\n",
    "Usaremos ``if`` cuando queremos comprobar una determinada condición\n",
    "\n",
    "``\n",
    "if condicion:\n",
    "    sentencias\n",
    "else:\n",
    "    sentencias\n",
    "``\n"
   ]
  },
  {
   "cell_type": "code",
   "execution_count": 490,
   "id": "30c528be",
   "metadata": {},
   "outputs": [
    {
     "name": "stdout",
     "output_type": "stream",
     "text": [
      "El score no es válido\n"
     ]
    }
   ],
   "source": [
    "score = -0.1\n",
    "\n",
    "if (score >= 0 and score < 0.2) :\n",
    "    print('Rojo')\n",
    "else:\n",
    "    if (score >= 0.2 and score < 0.8):\n",
    "        print('Amarillo')\n",
    "    else:\n",
    "        if (score >= 0.8 and score < 1):\n",
    "            print('Verde')\n",
    "        else:\n",
    "            print('El score no es válido')"
   ]
  },
  {
   "cell_type": "code",
   "execution_count": 492,
   "id": "86c18e2d",
   "metadata": {},
   "outputs": [
    {
     "name": "stdout",
     "output_type": "stream",
     "text": [
      "Verde\n"
     ]
    }
   ],
   "source": [
    "score = 0.9\n",
    "if (score >= 0 and score < 0.2) :\n",
    "    print('Rojo')\n",
    "elif (score >= 0.2 and score < 0.8):\n",
    "    print('Amarillo')\n",
    "elif (score >= 0.8 and score < 1):\n",
    "    print('Verde')\n",
    "else:\n",
    "    print('El score no es válido')"
   ]
  },
  {
   "cell_type": "markdown",
   "id": "d3fe92b2",
   "metadata": {},
   "source": [
    "#### Operador ternario ( ``if`` en una lína de código)\n",
    "\n",
    "consecuencia_verdadero ``if`` condicion ``else`` consecuencia_falso"
   ]
  },
  {
   "cell_type": "code",
   "execution_count": 494,
   "id": "bbe45ce2",
   "metadata": {},
   "outputs": [
    {
     "name": "stdout",
     "output_type": "stream",
     "text": [
      "El usuario tiene 22: es mayor de edad\n"
     ]
    }
   ],
   "source": [
    "edad = 22\n",
    "print('El usuario tiene {}: es mayor de edad'.format(edad)) if edad >= 18 else print('Es menor de edad')"
   ]
  },
  {
   "cell_type": "code",
   "execution_count": null,
   "id": "943369bf",
   "metadata": {},
   "outputs": [],
   "source": []
  }
 ],
 "metadata": {
  "kernelspec": {
   "display_name": "Python 3 (ipykernel)",
   "language": "python",
   "name": "python3"
  },
  "language_info": {
   "codemirror_mode": {
    "name": "ipython",
    "version": 3
   },
   "file_extension": ".py",
   "mimetype": "text/x-python",
   "name": "python",
   "nbconvert_exporter": "python",
   "pygments_lexer": "ipython3",
   "version": "3.9.7"
  },
  "toc": {
   "base_numbering": 1,
   "nav_menu": {},
   "number_sections": true,
   "sideBar": true,
   "skip_h1_title": false,
   "title_cell": "Table of Contents",
   "title_sidebar": "Contents",
   "toc_cell": false,
   "toc_position": {
    "height": "calc(100% - 180px)",
    "left": "10px",
    "top": "150px",
    "width": "248px"
   },
   "toc_section_display": true,
   "toc_window_display": true
  },
  "varInspector": {
   "cols": {
    "lenName": 16,
    "lenType": 16,
    "lenVar": 40
   },
   "kernels_config": {
    "python": {
     "delete_cmd_postfix": "",
     "delete_cmd_prefix": "del ",
     "library": "var_list.py",
     "varRefreshCmd": "print(var_dic_list())"
    },
    "r": {
     "delete_cmd_postfix": ") ",
     "delete_cmd_prefix": "rm(",
     "library": "var_list.r",
     "varRefreshCmd": "cat(var_dic_list()) "
    }
   },
   "oldHeight": 423.844,
   "position": {
    "height": "445.844px",
    "left": "1070px",
    "right": "20px",
    "top": "95px",
    "width": "340px"
   },
   "types_to_exclude": [
    "module",
    "function",
    "builtin_function_or_method",
    "instance",
    "_Feature"
   ],
   "varInspector_section_display": "block",
   "window_display": false
  }
 },
 "nbformat": 4,
 "nbformat_minor": 5
}
